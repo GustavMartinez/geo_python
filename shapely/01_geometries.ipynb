{
 "cells": [
  {
   "cell_type": "markdown",
   "id": "cf279730",
   "metadata": {},
   "source": [
    "# Creando geometrias con shapely"
   ]
  },
  {
   "cell_type": "markdown",
   "id": "e17d6ece",
   "metadata": {},
   "source": [
    "## Puntos lineas y poligonos"
   ]
  },
  {
   "cell_type": "code",
   "execution_count": 4,
   "id": "30ab3248",
   "metadata": {},
   "outputs": [],
   "source": [
    "# Importar point, line and polygon constructors\n",
    "\n",
    "from shapely.geometry import Point, LineString, Polygon"
   ]
  },
  {
   "cell_type": "markdown",
   "id": "3e266c3e",
   "metadata": {},
   "source": [
    "### Creación de puntos"
   ]
  },
  {
   "cell_type": "code",
   "execution_count": 7,
   "id": "f4105042",
   "metadata": {},
   "outputs": [],
   "source": [
    "punto_1 = Point(20.5,50.4)\n",
    "punto_2 = Point(30.2,15.2)\n",
    "punto_3 = Point(20.2,36.8,75) # Punto en tres dimensiones"
   ]
  },
  {
   "cell_type": "code",
   "execution_count": null,
   "id": "f53220db",
   "metadata": {},
   "outputs": [],
   "source": []
  }
 ],
 "metadata": {
  "kernelspec": {
   "display_name": "geo",
   "language": "python",
   "name": "python3"
  },
  "language_info": {
   "codemirror_mode": {
    "name": "ipython",
    "version": 3
   },
   "file_extension": ".py",
   "mimetype": "text/x-python",
   "name": "python",
   "nbconvert_exporter": "python",
   "pygments_lexer": "ipython3",
   "version": "3.12.3"
  }
 },
 "nbformat": 4,
 "nbformat_minor": 5
}
