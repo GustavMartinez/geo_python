{
 "cells": [
  {
   "cell_type": "markdown",
   "id": "cf279730",
   "metadata": {},
   "source": [
    "# Creando geometrias con shapely"
   ]
  },
  {
   "cell_type": "markdown",
   "id": "e17d6ece",
   "metadata": {},
   "source": [
    "## Puntos lineas y poligonos"
   ]
  },
  {
   "cell_type": "code",
   "execution_count": 4,
   "id": "30ab3248",
   "metadata": {},
   "outputs": [],
   "source": [
    "# Importar point, line and polygon constructors\n",
    "\n",
    "from shapely.geometry import Point, LineString, Polygon"
   ]
  },
  {
   "cell_type": "markdown",
   "id": "3e266c3e",
   "metadata": {},
   "source": [
    "### Creación de puntos"
   ]
  },
  {
   "cell_type": "code",
   "execution_count": 5,
   "id": "f4105042",
   "metadata": {},
   "outputs": [],
   "source": [
    "punto_1 = Point(20.5,50.4)\n",
    "punto_2 = Point(30.2,15.2)\n",
    "punto_3 = Point(20.2,36.8,75) # Punto en tres dimensiones"
   ]
  },
  {
   "cell_type": "code",
   "execution_count": 4,
   "id": "f53220db",
   "metadata": {},
   "outputs": [
    {
     "data": {
      "image/svg+xml": [
       "<svg xmlns=\"http://www.w3.org/2000/svg\" xmlns:xlink=\"http://www.w3.org/1999/xlink\" width=\"100.0\" height=\"100.0\" viewBox=\"29.2 14.2 2.0 2.0\" preserveAspectRatio=\"xMinYMin meet\"><g transform=\"matrix(1,0,0,-1,0,30.4)\"><circle cx=\"30.2\" cy=\"15.2\" r=\"0.06\" stroke=\"#555555\" stroke-width=\"0.02\" fill=\"#66cc99\" opacity=\"0.6\" /></g></svg>"
      ],
      "text/plain": [
       "<POINT (30.2 15.2)>"
      ]
     },
     "execution_count": 4,
     "metadata": {},
     "output_type": "execute_result"
    }
   ],
   "source": [
    "punto_2"
   ]
  },
  {
   "cell_type": "code",
   "execution_count": 5,
   "id": "8aba0125",
   "metadata": {},
   "outputs": [
    {
     "name": "stdout",
     "output_type": "stream",
     "text": [
      "POINT (20.5 50.4)\n"
     ]
    }
   ],
   "source": [
    "print(punto_1)"
   ]
  },
  {
   "cell_type": "code",
   "execution_count": 6,
   "id": "dc42c20f",
   "metadata": {},
   "outputs": [
    {
     "name": "stdout",
     "output_type": "stream",
     "text": [
      "POINT Z (20.2 36.8 75)\n"
     ]
    }
   ],
   "source": [
    "print(punto_3)"
   ]
  },
  {
   "cell_type": "code",
   "execution_count": 7,
   "id": "d7c6022b",
   "metadata": {},
   "outputs": [
    {
     "data": {
      "text/plain": [
       "'Point'"
      ]
     },
     "execution_count": 7,
     "metadata": {},
     "output_type": "execute_result"
    }
   ],
   "source": [
    "punto_1.geom_type"
   ]
  },
  {
   "cell_type": "code",
   "execution_count": 8,
   "id": "e048b797",
   "metadata": {},
   "outputs": [
    {
     "data": {
      "text/plain": [
       "shapely.geometry.point.Point"
      ]
     },
     "execution_count": 8,
     "metadata": {},
     "output_type": "execute_result"
    }
   ],
   "source": [
    "type(punto_3)"
   ]
  },
  {
   "cell_type": "markdown",
   "id": "ee14c02a",
   "metadata": {},
   "source": [
    "### Extraer coordenadas de un punto"
   ]
  },
  {
   "cell_type": "code",
   "execution_count": 9,
   "id": "3b98caf0",
   "metadata": {},
   "outputs": [
    {
     "data": {
      "text/plain": [
       "[(20.5, 50.4)]"
      ]
     },
     "execution_count": 9,
     "metadata": {},
     "output_type": "execute_result"
    }
   ],
   "source": [
    "list(punto_1.coords)"
   ]
  },
  {
   "cell_type": "code",
   "execution_count": 10,
   "id": "949dec17",
   "metadata": {},
   "outputs": [
    {
     "data": {
      "text/plain": [
       "30.2"
      ]
     },
     "execution_count": 10,
     "metadata": {},
     "output_type": "execute_result"
    }
   ],
   "source": [
    "punto_2.x"
   ]
  },
  {
   "cell_type": "code",
   "execution_count": 11,
   "id": "71ddd064",
   "metadata": {},
   "outputs": [
    {
     "data": {
      "text/plain": [
       "75.0"
      ]
     },
     "execution_count": 11,
     "metadata": {},
     "output_type": "execute_result"
    }
   ],
   "source": [
    "punto_3.z"
   ]
  },
  {
   "cell_type": "markdown",
   "id": "f5816cca",
   "metadata": {},
   "source": [
    "### Calcular distancia entre dos puntos"
   ]
  },
  {
   "cell_type": "code",
   "execution_count": 12,
   "id": "30df7577",
   "metadata": {},
   "outputs": [
    {
     "name": "stdout",
     "output_type": "stream",
     "text": [
      "La distancia entre el punto 1 y el punto dos es: 36.512\n"
     ]
    }
   ],
   "source": [
    "distancia = punto_1.distance(punto_2)\n",
    "print(f\"La distancia entre el punto 1 y el punto dos es: {round(distancia, 3)}\")"
   ]
  },
  {
   "cell_type": "markdown",
   "id": "a5ea2536",
   "metadata": {},
   "source": [
    "### Creación de lineas"
   ]
  },
  {
   "cell_type": "code",
   "execution_count": null,
   "id": "17b3e002",
   "metadata": {},
   "outputs": [],
   "source": [
    "# Linea de dos puntos\n",
    "\n",
    "punt_1 = Point(20,50)\n",
    "punt_2 = Point(50,20)\n",
    "\n",
    "linea_dos_puntos = LineString([punt_1, punt_2])"
   ]
  },
  {
   "cell_type": "code",
   "execution_count": 14,
   "id": "ab2b3239",
   "metadata": {},
   "outputs": [
    {
     "data": {
      "image/svg+xml": [
       "<svg xmlns=\"http://www.w3.org/2000/svg\" xmlns:xlink=\"http://www.w3.org/1999/xlink\" width=\"100.0\" height=\"100.0\" viewBox=\"18.8 18.8 32.400000000000006 32.400000000000006\" preserveAspectRatio=\"xMinYMin meet\"><g transform=\"matrix(1,0,0,-1,0,70.0)\"><polyline fill=\"none\" stroke=\"#66cc99\" stroke-width=\"0.6480000000000001\" points=\"20.0,50.0 50.0,20.0\" opacity=\"0.8\" /></g></svg>"
      ],
      "text/plain": [
       "<LINESTRING (20 50, 50 20)>"
      ]
     },
     "execution_count": 14,
     "metadata": {},
     "output_type": "execute_result"
    }
   ],
   "source": [
    "linea_dos_puntos"
   ]
  },
  {
   "cell_type": "code",
   "execution_count": 15,
   "id": "41df0092",
   "metadata": {},
   "outputs": [
    {
     "data": {
      "text/plain": [
       "42.42640687119285"
      ]
     },
     "execution_count": 15,
     "metadata": {},
     "output_type": "execute_result"
    }
   ],
   "source": [
    "linea_dos_puntos.length"
   ]
  },
  {
   "cell_type": "code",
   "execution_count": null,
   "id": "5e3e2607",
   "metadata": {},
   "outputs": [
    {
     "data": {
      "image/svg+xml": [
       "<svg xmlns=\"http://www.w3.org/2000/svg\" xmlns:xlink=\"http://www.w3.org/1999/xlink\" width=\"100.0\" height=\"100.0\" viewBox=\"48.4 18.4 33.199999999999996 43.2\" preserveAspectRatio=\"xMinYMin meet\"><g transform=\"matrix(1,0,0,-1,0,80.0)\"><polyline fill=\"none\" stroke=\"#66cc99\" stroke-width=\"0.8640000000000001\" points=\"50.0,20.0 60.0,25.0 80.0,60.0\" opacity=\"0.8\" /></g></svg>"
      ],
      "text/plain": [
       "<LINESTRING (50 20, 60 25, 80 60)>"
      ]
     },
     "execution_count": 18,
     "metadata": {},
     "output_type": "execute_result"
    }
   ],
   "source": [
    "# linea de tres puntos\n",
    "\n",
    "punto_1a = Point(50,20)\n",
    "punto_2a = Point(60,25)\n",
    "punto_3a = Point(80,60)\n",
    "\n",
    "linea_multi_ponto = LineString([punto_1a, punto_2a, punto_3a])\n",
    "linea_multi_ponto"
   ]
  },
  {
   "cell_type": "code",
   "execution_count": 28,
   "id": "e5401f18",
   "metadata": {},
   "outputs": [
    {
     "data": {
      "text/plain": [
       "[(50.0, 20.0), (60.0, 25.0), (80.0, 60.0)]"
      ]
     },
     "execution_count": 28,
     "metadata": {},
     "output_type": "execute_result"
    }
   ],
   "source": [
    "list(linea_multi_ponto.coords)"
   ]
  },
  {
   "cell_type": "code",
   "execution_count": null,
   "id": "28b9c169",
   "metadata": {},
   "outputs": [
    {
     "data": {
      "image/svg+xml": [
       "<svg xmlns=\"http://www.w3.org/2000/svg\" xmlns:xlink=\"http://www.w3.org/1999/xlink\" width=\"100.0\" height=\"100.0\" viewBox=\"65.74306090567 37.15741454089335 2.0 2.0\" preserveAspectRatio=\"xMinYMin meet\"><g transform=\"matrix(1,0,0,-1,0,76.3148290817867)\"><circle cx=\"66.74306090567\" cy=\"38.15741454089335\" r=\"0.06\" stroke=\"#555555\" stroke-width=\"0.02\" fill=\"#66cc99\" opacity=\"0.6\" /></g></svg>"
      ],
      "text/plain": [
       "<POINT (66.743 38.157)>"
      ]
     },
     "execution_count": 29,
     "metadata": {},
     "output_type": "execute_result"
    }
   ],
   "source": [
    "linea_multi_ponto.centroid"
   ]
  },
  {
   "cell_type": "markdown",
   "id": "7a84fe9f",
   "metadata": {},
   "source": [
    "#### Longitud de una linea"
   ]
  },
  {
   "cell_type": "code",
   "execution_count": 19,
   "id": "540f83a4",
   "metadata": {},
   "outputs": [
    {
     "data": {
      "text/plain": [
       "51.49162862899169"
      ]
     },
     "execution_count": 19,
     "metadata": {},
     "output_type": "execute_result"
    }
   ],
   "source": [
    "linea_multi_ponto.length"
   ]
  },
  {
   "cell_type": "markdown",
   "id": "f51134e2",
   "metadata": {},
   "source": [
    "### Creación de Poligonos"
   ]
  },
  {
   "cell_type": "code",
   "execution_count": 6,
   "id": "e68d327f",
   "metadata": {},
   "outputs": [],
   "source": [
    "p1 = Point(20,20)\n",
    "p2 = Point(10,40)\n",
    "p3 = Point(60,60)\n",
    "p4 = Point(100,60)\n",
    "\n",
    "poligono_4_vertices = Polygon([p1, p2, p3, p4])"
   ]
  },
  {
   "cell_type": "code",
   "execution_count": null,
   "id": "8c934f79",
   "metadata": {},
   "outputs": [
    {
     "data": {
      "image/svg+xml": [
       "<svg xmlns=\"http://www.w3.org/2000/svg\" xmlns:xlink=\"http://www.w3.org/1999/xlink\" width=\"100.0\" height=\"100.0\" viewBox=\"6.4 16.4 97.19999999999999 47.2\" preserveAspectRatio=\"xMinYMin meet\"><g transform=\"matrix(1,0,0,-1,0,80.0)\"><path fill-rule=\"evenodd\" fill=\"#66cc99\" stroke=\"#555555\" stroke-width=\"1.9439999999999997\" opacity=\"0.6\" d=\"M 20.0,20.0 L 10.0,40.0 L 60.0,60.0 L 100.0,60.0 L 20.0,20.0 z\" /></g></svg>"
      ],
      "text/plain": [
       "<POLYGON ((20 20, 10 40, 60 60, 100 60, 20 20))>"
      ]
     },
     "execution_count": 25,
     "metadata": {},
     "output_type": "execute_result"
    }
   ],
   "source": [
    "poligono_4_vertices"
   ]
  },
  {
   "cell_type": "code",
   "execution_count": 8,
   "id": "72e58b6c",
   "metadata": {},
   "outputs": [
    {
     "data": {
      "text/plain": [
       "1400.0"
      ]
     },
     "execution_count": 8,
     "metadata": {},
     "output_type": "execute_result"
    }
   ],
   "source": [
    "poligono_4_vertices.area"
   ]
  },
  {
   "cell_type": "code",
   "execution_count": 9,
   "id": "0c7e97a1",
   "metadata": {},
   "outputs": [
    {
     "data": {
      "text/plain": [
       "205.65504694633452"
      ]
     },
     "execution_count": 9,
     "metadata": {},
     "output_type": "execute_result"
    }
   ],
   "source": [
    "poligono_4_vertices.length"
   ]
  },
  {
   "cell_type": "code",
   "execution_count": 11,
   "id": "1db04e1d",
   "metadata": {},
   "outputs": [
    {
     "data": {
      "text/plain": [
       "shapely.geometry.polygon.Polygon"
      ]
     },
     "execution_count": 11,
     "metadata": {},
     "output_type": "execute_result"
    }
   ],
   "source": [
    "type(poligono_4_vertices)"
   ]
  },
  {
   "cell_type": "code",
   "execution_count": 12,
   "id": "2d6b4cff",
   "metadata": {},
   "outputs": [
    {
     "data": {
      "text/plain": [
       "'Polygon'"
      ]
     },
     "execution_count": 12,
     "metadata": {},
     "output_type": "execute_result"
    }
   ],
   "source": [
    "poligono_4_vertices.geom_type"
   ]
  },
  {
   "cell_type": "code",
   "execution_count": 13,
   "id": "1bc6f5f9",
   "metadata": {},
   "outputs": [
    {
     "name": "stdout",
     "output_type": "stream",
     "text": [
      "Help on Polygon in module shapely.geometry.polygon object:\n",
      "\n",
      "class Polygon(shapely.geometry.base.BaseGeometry)\n",
      " |  Polygon(shell=None, holes=None)\n",
      " |\n",
      " |  A geometry type representing an area that is enclosed by a linear ring.\n",
      " |\n",
      " |  A polygon is a two-dimensional feature and has a non-zero area. It may\n",
      " |  have one or more negative-space \"holes\" which are also bounded by linear\n",
      " |  rings. If any rings cross each other, the feature is invalid and\n",
      " |  operations on it may fail.\n",
      " |\n",
      " |  Parameters\n",
      " |  ----------\n",
      " |  shell : sequence\n",
      " |      A sequence of (x, y [,z]) numeric coordinate pairs or triples, or\n",
      " |      an array-like with shape (N, 2) or (N, 3).\n",
      " |      Also can be a sequence of Point objects.\n",
      " |  holes : sequence\n",
      " |      A sequence of objects which satisfy the same requirements as the\n",
      " |      shell parameters above\n",
      " |\n",
      " |  Attributes\n",
      " |  ----------\n",
      " |  exterior : LinearRing\n",
      " |      The ring which bounds the positive space of the polygon.\n",
      " |  interiors : sequence\n",
      " |      A sequence of rings which bound all existing holes.\n",
      " |\n",
      " |  Examples\n",
      " |  --------\n",
      " |  Create a square polygon with no holes\n",
      " |\n",
      " |  >>> from shapely import Polygon\n",
      " |  >>> coords = ((0., 0.), (0., 1.), (1., 1.), (1., 0.), (0., 0.))\n",
      " |  >>> polygon = Polygon(coords)\n",
      " |  >>> polygon.area\n",
      " |  1.0\n",
      " |\n",
      " |  Method resolution order:\n",
      " |      Polygon\n",
      " |      shapely.geometry.base.BaseGeometry\n",
      " |      shapely.lib.Geometry\n",
      " |      builtins.object\n",
      " |\n",
      " |  Methods defined here:\n",
      " |\n",
      " |  svg(self, scale_factor=1.0, fill_color=None, opacity=None)\n",
      " |      Return SVG path element for the Polygon geometry.\n",
      " |\n",
      " |      Parameters\n",
      " |      ----------\n",
      " |      scale_factor : float\n",
      " |          Multiplication factor for the SVG stroke-width.  Default is 1.\n",
      " |      fill_color : str, optional\n",
      " |          Hex string for fill color. Default is to use \"#66cc99\" if\n",
      " |          geometry is valid, and \"#ff3333\" if invalid.\n",
      " |      opacity : float\n",
      " |          Float number between 0 and 1 for color opacity. Default value is 0.6\n",
      " |\n",
      " |  ----------------------------------------------------------------------\n",
      " |  Class methods defined here:\n",
      " |\n",
      " |  from_bounds(xmin, ymin, xmax, ymax)\n",
      " |      Construct a `Polygon()` from spatial bounds.\n",
      " |\n",
      " |  ----------------------------------------------------------------------\n",
      " |  Static methods defined here:\n",
      " |\n",
      " |  __new__(self, shell=None, holes=None)\n",
      " |      Create a new Polygon geometry.\n",
      " |\n",
      " |  ----------------------------------------------------------------------\n",
      " |  Readonly properties defined here:\n",
      " |\n",
      " |  __geo_interface__\n",
      " |      Return a GeoJSON-like mapping of the Polygon geometry.\n",
      " |\n",
      " |  coords\n",
      " |      Not implemented for polygons.\n",
      " |\n",
      " |  exterior\n",
      " |      Return the exterior ring of the polygon.\n",
      " |\n",
      " |  interiors\n",
      " |      Return the sequence of interior rings of the polygon.\n",
      " |\n",
      " |  ----------------------------------------------------------------------\n",
      " |  Methods inherited from shapely.geometry.base.BaseGeometry:\n",
      " |\n",
      " |  __and__(self, other)\n",
      " |      Return the intersection of the geometries.\n",
      " |\n",
      " |  __bool__(self)\n",
      " |      Return True if the geometry is not empty, else False.\n",
      " |\n",
      " |  __format__(self, format_spec)\n",
      " |      Format a geometry using a format specification.\n",
      " |\n",
      " |  __nonzero__(self)\n",
      " |      Return True if the geometry is not empty, else False.\n",
      " |\n",
      " |  __or__(self, other)\n",
      " |      Return the union of the geometries.\n",
      " |\n",
      " |  __reduce__(self)\n",
      " |      Pickle support.\n",
      " |\n",
      " |  __repr__(self)\n",
      " |      Return a string representation of the geometry.\n",
      " |\n",
      " |  __str__(self)\n",
      " |      Return a string representation of the geometry.\n",
      " |\n",
      " |  __sub__(self, other)\n",
      " |      Return the difference of the geometries.\n",
      " |\n",
      " |  __xor__(self, other)\n",
      " |      Return the symmetric difference of the geometries.\n",
      " |\n",
      " |  buffer(self, distance, quad_segs=16, cap_style='round', join_style='round', mitre_limit=5.0, single_sided=False, **kwargs)\n",
      " |      Get a geometry that represents all points within a distance of this geometry.\n",
      " |\n",
      " |      A positive distance produces a dilation, a negative distance an\n",
      " |      erosion. A very small or zero distance may sometimes be used to\n",
      " |      \"tidy\" a polygon.\n",
      " |\n",
      " |      Parameters\n",
      " |      ----------\n",
      " |      distance : float\n",
      " |          The distance to buffer around the object.\n",
      " |      quad_segs : int, optional\n",
      " |          Sets the number of line segments used to approximate an\n",
      " |          angle fillet.\n",
      " |      cap_style : shapely.BufferCapStyle or {'round', 'square', 'flat'}, default 'round'\n",
      " |          Specifies the shape of buffered line endings. BufferCapStyle.round\n",
      " |          ('round') results in circular line endings (see ``quad_segs``). Both\n",
      " |          BufferCapStyle.square ('square') and BufferCapStyle.flat ('flat')\n",
      " |          result in rectangular line endings, only BufferCapStyle.flat\n",
      " |          ('flat') will end at the original vertex, while\n",
      " |          BufferCapStyle.square ('square') involves adding the buffer width.\n",
      " |      join_style : shapely.BufferJoinStyle or {'round', 'mitre', 'bevel'}, default 'round'\n",
      " |          Specifies the shape of buffered line midpoints.\n",
      " |          BufferJoinStyle.ROUND ('round') results in rounded shapes.\n",
      " |          BufferJoinStyle.bevel ('bevel') results in a beveled edge that\n",
      " |          touches the original vertex. BufferJoinStyle.mitre ('mitre') results\n",
      " |          in a single vertex that is beveled depending on the ``mitre_limit``\n",
      " |          parameter.\n",
      " |      mitre_limit : float, optional\n",
      " |          The mitre limit ratio is used for very sharp corners. The\n",
      " |          mitre ratio is the ratio of the distance from the corner to\n",
      " |          the end of the mitred offset corner. When two line segments\n",
      " |          meet at a sharp angle, a miter join will extend the original\n",
      " |          geometry. To prevent unreasonable geometry, the mitre limit\n",
      " |          allows controlling the maximum length of the join corner.\n",
      " |          Corners with a ratio which exceed the limit will be beveled.\n",
      " |      single_sided : bool, optional\n",
      " |          The side used is determined by the sign of the buffer\n",
      " |          distance:\n",
      " |\n",
      " |              a positive distance indicates the left-hand side\n",
      " |              a negative distance indicates the right-hand side\n",
      " |\n",
      " |          The single-sided buffer of point geometries is the same as\n",
      " |          the regular buffer.  The End Cap Style for single-sided\n",
      " |          buffers is always ignored, and forced to the equivalent of\n",
      " |          CAP_FLAT.\n",
      " |      quadsegs, resolution : int, optional\n",
      " |          Deprecated aliases for `quad_segs`.\n",
      " |      **kwargs : dict, optional\n",
      " |          For backwards compatibility of renamed parameters. If an unsupported\n",
      " |          kwarg is passed, a `ValueError` will be raised.\n",
      " |\n",
      " |      Returns\n",
      " |      -------\n",
      " |      Geometry\n",
      " |\n",
      " |      Notes\n",
      " |      -----\n",
      " |      The return value is a strictly two-dimensional geometry. All\n",
      " |      Z coordinates of the original geometry will be ignored.\n",
      " |\n",
      " |      .. deprecated:: 2.1.0\n",
      " |          A deprecation warning is shown if ``quad_segs``,  ``cap_style``,\n",
      " |          ``join_style``, ``mitre_limit`` or ``single_sided`` are\n",
      " |          specified as positional arguments. In a future release, these will\n",
      " |          need to be specified as keyword arguments.\n",
      " |\n",
      " |      Examples\n",
      " |      --------\n",
      " |      >>> from shapely import BufferCapStyle\n",
      " |      >>> from shapely.wkt import loads\n",
      " |      >>> g = loads('POINT (0.0 0.0)')\n",
      " |\n",
      " |      16-gon approx of a unit radius circle:\n",
      " |\n",
      " |      >>> g.buffer(1.0).area\n",
      " |      3.1365484905459398\n",
      " |\n",
      " |      128-gon approximation:\n",
      " |\n",
      " |      >>> g.buffer(1.0, 128).area\n",
      " |      3.1415138011443013\n",
      " |\n",
      " |      triangle approximation:\n",
      " |\n",
      " |      >>> g.buffer(1.0, 3).area\n",
      " |      3.0\n",
      " |      >>> list(g.buffer(1.0, cap_style=BufferCapStyle.square).exterior.coords)\n",
      " |      [(1.0, 1.0), (1.0, -1.0), (-1.0, -1.0), (-1.0, 1.0), (1.0, 1.0)]\n",
      " |      >>> g.buffer(1.0, cap_style=BufferCapStyle.square).area\n",
      " |      4.0\n",
      " |\n",
      " |  contains(self, other)\n",
      " |      Return True if the geometry contains the other, else False.\n",
      " |\n",
      " |  contains_properly(self, other)\n",
      " |      Return True if the geometry completely contains the other.\n",
      " |\n",
      " |      There should be no common boundary points.\n",
      " |\n",
      " |      Refer to `shapely.contains_properly` for full documentation.\n",
      " |\n",
      " |  covered_by(self, other)\n",
      " |      Return True if the geometry is covered by the other, else False.\n",
      " |\n",
      " |  covers(self, other)\n",
      " |      Return True if the geometry covers the other, else False.\n",
      " |\n",
      " |  crosses(self, other)\n",
      " |      Return True if the geometries cross, else False.\n",
      " |\n",
      " |  difference(self, other, grid_size=None)\n",
      " |      Return the difference of the geometries.\n",
      " |\n",
      " |      Refer to `shapely.difference` for full documentation.\n",
      " |\n",
      " |  disjoint(self, other)\n",
      " |      Return True if geometries are disjoint, else False.\n",
      " |\n",
      " |  distance(self, other)\n",
      " |      Unitless distance to other geometry (float).\n",
      " |\n",
      " |  dwithin(self, other, distance)\n",
      " |      Return True if geometry is within a given distance from the other.\n",
      " |\n",
      " |      Refer to `shapely.dwithin` for full documentation.\n",
      " |\n",
      " |  equals(self, other)\n",
      " |      Return True if geometries are equal, else False.\n",
      " |\n",
      " |      This method considers point-set equality (or topological\n",
      " |      equality), and is equivalent to (self.within(other) &\n",
      " |      self.contains(other)).\n",
      " |\n",
      " |      Examples\n",
      " |      --------\n",
      " |      >>> from shapely import LineString\n",
      " |      >>> LineString(\n",
      " |      ...     [(0, 0), (2, 2)]\n",
      " |      ... ).equals(\n",
      " |      ...     LineString([(0, 0), (1, 1), (2, 2)])\n",
      " |      ... )\n",
      " |      True\n",
      " |\n",
      " |      Returns\n",
      " |      -------\n",
      " |      bool\n",
      " |\n",
      " |  equals_exact(self, other, tolerance=0.0, *, normalize=False)\n",
      " |      Return True if the geometries are equivalent within the tolerance.\n",
      " |\n",
      " |      Refer to :func:`~shapely.equals_exact` for full documentation.\n",
      " |\n",
      " |      Parameters\n",
      " |      ----------\n",
      " |      other : BaseGeometry\n",
      " |          The other geometry object in this comparison.\n",
      " |      tolerance : float, optional (default: 0.)\n",
      " |          Absolute tolerance in the same units as coordinates.\n",
      " |      normalize : bool, optional (default: False)\n",
      " |          If True, normalize the two geometries so that the coordinates are\n",
      " |          in the same order.\n",
      " |\n",
      " |          .. versionadded:: 2.1.0\n",
      " |\n",
      " |      Examples\n",
      " |      --------\n",
      " |      >>> from shapely import LineString\n",
      " |      >>> LineString(\n",
      " |      ...     [(0, 0), (2, 2)]\n",
      " |      ... ).equals_exact(\n",
      " |      ...     LineString([(0, 0), (1, 1), (2, 2)]),\n",
      " |      ...     1e-6\n",
      " |      ... )\n",
      " |      False\n",
      " |\n",
      " |      Returns\n",
      " |      -------\n",
      " |      bool\n",
      " |\n",
      " |  geometryType(self)\n",
      " |      Get the geometry type (deprecated).\n",
      " |\n",
      " |      .. deprecated:: 2.0\n",
      " |         Use the :py:attr:`geom_type` attribute instead.\n",
      " |\n",
      " |  hausdorff_distance(self, other)\n",
      " |      Unitless hausdorff distance to other geometry (float).\n",
      " |\n",
      " |  interpolate(self, distance, normalized=False)\n",
      " |      Return a point at the specified distance along a linear geometry.\n",
      " |\n",
      " |      Negative length values are taken as measured in the reverse\n",
      " |      direction from the end of the geometry. Out-of-range index\n",
      " |      values are handled by clamping them to the valid range of values.\n",
      " |      If the normalized arg is True, the distance will be interpreted as a\n",
      " |      fraction of the geometry's length.\n",
      " |\n",
      " |      Alias of `line_interpolate_point`.\n",
      " |\n",
      " |  intersection(self, other, grid_size=None)\n",
      " |      Return the intersection of the geometries.\n",
      " |\n",
      " |      Refer to `shapely.intersection` for full documentation.\n",
      " |\n",
      " |  intersects(self, other)\n",
      " |      Return True if geometries intersect, else False.\n",
      " |\n",
      " |  line_interpolate_point(self, distance, normalized=False)\n",
      " |      Return a point at the specified distance along a linear geometry.\n",
      " |\n",
      " |      Negative length values are taken as measured in the reverse\n",
      " |      direction from the end of the geometry. Out-of-range index\n",
      " |      values are handled by clamping them to the valid range of values.\n",
      " |      If the normalized arg is True, the distance will be interpreted as a\n",
      " |      fraction of the geometry's length.\n",
      " |\n",
      " |      Alias of `interpolate`.\n",
      " |\n",
      " |  line_locate_point(self, other, normalized=False)\n",
      " |      Return the distance of this geometry to a point nearest the specified point.\n",
      " |\n",
      " |      If the normalized arg is True, return the distance normalized to the\n",
      " |      length of the linear geometry.\n",
      " |\n",
      " |      Alias of `project`.\n",
      " |\n",
      " |  normalize(self)\n",
      " |      Convert geometry to normal form (or canonical form).\n",
      " |\n",
      " |      This method orders the coordinates, rings of a polygon and parts of\n",
      " |      multi geometries consistently. Typically useful for testing purposes\n",
      " |      (for example in combination with `equals_exact`).\n",
      " |\n",
      " |      Examples\n",
      " |      --------\n",
      " |      >>> from shapely import MultiLineString\n",
      " |      >>> line = MultiLineString([[(0, 0), (1, 1)], [(3, 3), (2, 2)]])\n",
      " |      >>> line.normalize()\n",
      " |      <MULTILINESTRING ((2 2, 3 3), (0 0, 1 1))>\n",
      " |\n",
      " |  overlaps(self, other)\n",
      " |      Return True if geometries overlap, else False.\n",
      " |\n",
      " |  point_on_surface(self)\n",
      " |      Return a point guaranteed to be within the object, cheaply.\n",
      " |\n",
      " |      Alias of `representative_point`.\n",
      " |\n",
      " |  project(self, other, normalized=False)\n",
      " |      Return the distance of geometry to a point nearest the specified point.\n",
      " |\n",
      " |      If the normalized arg is True, return the distance normalized to the\n",
      " |      length of the linear geometry.\n",
      " |\n",
      " |      Alias of `line_locate_point`.\n",
      " |\n",
      " |  relate(self, other)\n",
      " |      Return the DE-9IM intersection matrix for the two geometries (string).\n",
      " |\n",
      " |  relate_pattern(self, other, pattern)\n",
      " |      Return True if the DE-9IM relationship code satisfies the pattern.\n",
      " |\n",
      " |  representative_point(self)\n",
      " |      Return a point guaranteed to be within the object, cheaply.\n",
      " |\n",
      " |      Alias of `point_on_surface`.\n",
      " |\n",
      " |  reverse(self)\n",
      " |      Return a copy of this geometry with the order of coordinates reversed.\n",
      " |\n",
      " |      If the geometry is a polygon with interior rings, the interior rings are also\n",
      " |      reversed.\n",
      " |\n",
      " |      Points are unchanged.\n",
      " |\n",
      " |      See Also\n",
      " |      --------\n",
      " |      is_ccw : Checks if a geometry is clockwise.\n",
      " |\n",
      " |      Examples\n",
      " |      --------\n",
      " |      >>> from shapely import LineString, Polygon\n",
      " |      >>> LineString([(0, 0), (1, 2)]).reverse()\n",
      " |      <LINESTRING (1 2, 0 0)>\n",
      " |      >>> Polygon([(0, 0), (1, 0), (1, 1), (0, 1), (0, 0)]).reverse()\n",
      " |      <POLYGON ((0 0, 0 1, 1 1, 1 0, 0 0))>\n",
      " |\n",
      " |  segmentize(self, max_segment_length)\n",
      " |      Add vertices to line segments based on maximum segment length.\n",
      " |\n",
      " |      Additional vertices will be added to every line segment in an input geometry\n",
      " |      so that segments are no longer than the provided maximum segment length. New\n",
      " |      vertices will evenly subdivide each segment.\n",
      " |\n",
      " |      Only linear components of input geometries are densified; other geometries\n",
      " |      are returned unmodified.\n",
      " |\n",
      " |      Parameters\n",
      " |      ----------\n",
      " |      max_segment_length : float or array_like\n",
      " |          Additional vertices will be added so that all line segments are no\n",
      " |          longer this value.  Must be greater than 0.\n",
      " |\n",
      " |      Examples\n",
      " |      --------\n",
      " |      >>> from shapely import LineString, Polygon\n",
      " |      >>> LineString([(0, 0), (0, 10)]).segmentize(max_segment_length=5)\n",
      " |      <LINESTRING (0 0, 0 5, 0 10)>\n",
      " |      >>> Polygon([(0, 0), (10, 0), (10, 10), (0, 10), (0, 0)]).segmentize(max_segment_length=5)\n",
      " |      <POLYGON ((0 0, 5 0, 10 0, 10 5, 10 10, 5 10, 0 10, 0 5, 0 0))>\n",
      " |\n",
      " |  simplify(self, tolerance, preserve_topology=True)\n",
      " |      Return a simplified geometry produced by the Douglas-Peucker algorithm.\n",
      " |\n",
      " |      Coordinates of the simplified geometry will be no more than the\n",
      " |      tolerance distance from the original. Unless the topology preserving\n",
      " |      option is used, the algorithm may produce self-intersecting or\n",
      " |      otherwise invalid geometries.\n",
      " |\n",
      " |  symmetric_difference(self, other, grid_size=None)\n",
      " |      Return the symmetric difference of the geometries.\n",
      " |\n",
      " |      Refer to `shapely.symmetric_difference` for full documentation.\n",
      " |\n",
      " |  touches(self, other)\n",
      " |      Return True if geometries touch, else False.\n",
      " |\n",
      " |  union(self, other, grid_size=None)\n",
      " |      Return the union of the geometries.\n",
      " |\n",
      " |      Refer to `shapely.union` for full documentation.\n",
      " |\n",
      " |  within(self, other)\n",
      " |      Return True if geometry is within the other, else False.\n",
      " |\n",
      " |  ----------------------------------------------------------------------\n",
      " |  Readonly properties inherited from shapely.geometry.base.BaseGeometry:\n",
      " |\n",
      " |  area\n",
      " |      Unitless area of the geometry (float).\n",
      " |\n",
      " |  boundary\n",
      " |      Return a lower dimension geometry that bounds the object.\n",
      " |\n",
      " |      The boundary of a polygon is a line, the boundary of a line is a\n",
      " |      collection of points. The boundary of a point is an empty (null)\n",
      " |      collection.\n",
      " |\n",
      " |  bounds\n",
      " |      Return minimum bounding region (minx, miny, maxx, maxy).\n",
      " |\n",
      " |  centroid\n",
      " |      Return the geometric center of the object.\n",
      " |\n",
      " |  convex_hull\n",
      " |      Return the convex hull of the geometry.\n",
      " |\n",
      " |      Imagine an elastic band stretched around the geometry: that's a convex\n",
      " |      hull, more or less.\n",
      " |\n",
      " |      The convex hull of a three member multipoint, for example, is a\n",
      " |      triangular polygon.\n",
      " |\n",
      " |  envelope\n",
      " |      A figure that envelopes the geometry.\n",
      " |\n",
      " |  geom_type\n",
      " |      Name of the geometry's type, such as 'Point'.\n",
      " |\n",
      " |  has_m\n",
      " |      True if the geometry's coordinate sequence(s) have m values.\n",
      " |\n",
      " |  has_z\n",
      " |      True if the geometry's coordinate sequence(s) have z values.\n",
      " |\n",
      " |  is_closed\n",
      " |      True if the geometry is closed, else False.\n",
      " |\n",
      " |      Applicable only to linear geometries.\n",
      " |\n",
      " |  is_empty\n",
      " |      True if the set of points in this geometry is empty, else False.\n",
      " |\n",
      " |  is_ring\n",
      " |      True if the geometry is a closed ring, else False.\n",
      " |\n",
      " |  is_simple\n",
      " |      True if the geometry is simple.\n",
      " |\n",
      " |      Simple means that any self-intersections are only at boundary points.\n",
      " |\n",
      " |  is_valid\n",
      " |      True if the geometry is valid.\n",
      " |\n",
      " |      The definition depends on sub-class.\n",
      " |\n",
      " |  length\n",
      " |      Unitless length of the geometry (float).\n",
      " |\n",
      " |  minimum_clearance\n",
      " |      Unitless distance a node can be moved to produce an invalid geometry (float).\n",
      " |\n",
      " |  minimum_rotated_rectangle\n",
      " |      Return the oriented envelope (minimum rotated rectangle) of the geometry.\n",
      " |\n",
      " |      The oriented envelope encloses an input geometry, such that the resulting\n",
      " |      rectangle has minimum area.\n",
      " |\n",
      " |      Unlike `envelope` this rectangle is not constrained to be parallel to the\n",
      " |      coordinate axes. If the convex hull of the object is a degenerate (line\n",
      " |      or point) this degenerate is returned.\n",
      " |\n",
      " |      The starting point of the rectangle is not fixed. You can use\n",
      " |      :func:`~shapely.normalize` to reorganize the rectangle to\n",
      " |      :ref:`strict canonical form <canonical-form>` so the starting point is\n",
      " |      always the lower left point.\n",
      " |\n",
      " |      Alias of `oriented_envelope`.\n",
      " |\n",
      " |  oriented_envelope\n",
      " |      Return the oriented envelope (minimum rotated rectangle) of a geometry.\n",
      " |\n",
      " |      The oriented envelope encloses an input geometry, such that the resulting\n",
      " |      rectangle has minimum area.\n",
      " |\n",
      " |      Unlike envelope this rectangle is not constrained to be parallel to the\n",
      " |      coordinate axes. If the convex hull of the object is a degenerate (line\n",
      " |      or point) this degenerate is returned.\n",
      " |\n",
      " |      The starting point of the rectangle is not fixed. You can use\n",
      " |      :func:`~shapely.normalize` to reorganize the rectangle to\n",
      " |      :ref:`strict canonical form <canonical-form>` so the starting point is\n",
      " |      always the lower left point.\n",
      " |\n",
      " |      Alias of `minimum_rotated_rectangle`.\n",
      " |\n",
      " |  type\n",
      " |      Get the geometry type (deprecated).\n",
      " |\n",
      " |      .. deprecated:: 2.0\n",
      " |         Use the :py:attr:`geom_type` attribute instead.\n",
      " |\n",
      " |  wkb\n",
      " |      WKB representation of the geometry.\n",
      " |\n",
      " |  wkb_hex\n",
      " |      WKB hex representation of the geometry.\n",
      " |\n",
      " |  wkt\n",
      " |      WKT representation of the geometry.\n",
      " |\n",
      " |  xy\n",
      " |      Separate arrays of X and Y coordinate values.\n",
      " |\n",
      " |  ----------------------------------------------------------------------\n",
      " |  Methods inherited from shapely.lib.Geometry:\n",
      " |\n",
      " |  __eq__(self, value, /)\n",
      " |      Return self==value.\n",
      " |\n",
      " |  __ge__(self, value, /)\n",
      " |      Return self>=value.\n",
      " |\n",
      " |  __gt__(self, value, /)\n",
      " |      Return self>value.\n",
      " |\n",
      " |  __hash__(self, /)\n",
      " |      Return hash(self).\n",
      " |\n",
      " |  __le__(self, value, /)\n",
      " |      Return self<=value.\n",
      " |\n",
      " |  __lt__(self, value, /)\n",
      " |      Return self<value.\n",
      " |\n",
      " |  __ne__(self, value, /)\n",
      " |      Return self!=value.\n",
      " |\n",
      " |  __setstate__(...)\n",
      " |      For unpickling pre-shapely 2.0 pickles\n",
      "\n"
     ]
    }
   ],
   "source": [
    "help(poligono_4_vertices)"
   ]
  },
  {
   "cell_type": "markdown",
   "id": "bc19400c",
   "metadata": {},
   "source": [
    "## World"
   ]
  },
  {
   "cell_type": "code",
   "execution_count": 19,
   "id": "67b0796c",
   "metadata": {},
   "outputs": [
    {
     "data": {
      "image/svg+xml": [
       "<svg xmlns=\"http://www.w3.org/2000/svg\" xmlns:xlink=\"http://www.w3.org/1999/xlink\" width=\"300\" height=\"208.8\" viewBox=\"-194.4 -104.4 388.8 208.8\" preserveAspectRatio=\"xMinYMin meet\"><g transform=\"matrix(1,0,0,-1,0,0.0)\"><path fill-rule=\"evenodd\" fill=\"#66cc99\" stroke=\"#555555\" stroke-width=\"2.592\" opacity=\"0.6\" d=\"M -180.0,90.0 L -180.0,-90.0 L 180.0,-90.0 L 180.0,90.0 L -180.0,90.0 z\" /></g></svg>"
      ],
      "text/plain": [
       "<POLYGON ((-180 90, -180 -90, 180 -90, 180 90, -180 90))>"
      ]
     },
     "execution_count": 19,
     "metadata": {},
     "output_type": "execute_result"
    }
   ],
   "source": [
    "border = [(-180,90),(-180,-90),(180,-90),(180,90)]\n",
    "world = Polygon(border)\n",
    "\n",
    "world"
   ]
  },
  {
   "cell_type": "markdown",
   "id": "e551f73e",
   "metadata": {},
   "source": [
    "### Adicionar una área vacia a un poligono"
   ]
  },
  {
   "cell_type": "code",
   "execution_count": 24,
   "id": "9b5532c9",
   "metadata": {},
   "outputs": [
    {
     "data": {
      "image/svg+xml": [
       "<svg xmlns=\"http://www.w3.org/2000/svg\" xmlns:xlink=\"http://www.w3.org/1999/xlink\" width=\"300\" height=\"208.8\" viewBox=\"-194.4 -104.4 388.8 208.8\" preserveAspectRatio=\"xMinYMin meet\"><g transform=\"matrix(1,0,0,-1,0,0.0)\"><path fill-rule=\"evenodd\" fill=\"#66cc99\" stroke=\"#555555\" stroke-width=\"2.592\" opacity=\"0.6\" d=\"M -180.0,90.0 L -180.0,-90.0 L 180.0,-90.0 L 180.0,90.0 L -180.0,90.0 z M -170.0,80.0 L -170.0,-80.0 L 170.0,-80.0 L 170.0,80.0 L -170.0,80.0 z\" /></g></svg>"
      ],
      "text/plain": [
       "<POLYGON ((-180 90, -180 -90, 180 -90, 180 90, -180 90), (-170 80, -170 -80,...>"
      ]
     },
     "execution_count": 24,
     "metadata": {},
     "output_type": "execute_result"
    }
   ],
   "source": [
    "border2 = [(-180,90),(-180,-90),(180,-90),(180,90)]\n",
    "hole =    [[(-170,80),(-170,-80),(170,-80),(170,80)]]\n",
    "\n",
    "frame = Polygon(shell=border2, holes=hole)\n",
    "\n",
    "frame"
   ]
  },
  {
   "cell_type": "markdown",
   "id": "768616bc",
   "metadata": {},
   "source": [
    "#### Crear un pentagono"
   ]
  },
  {
   "cell_type": "code",
   "execution_count": 25,
   "id": "a3ce06a4",
   "metadata": {},
   "outputs": [
    {
     "data": {
      "image/svg+xml": [
       "<svg xmlns=\"http://www.w3.org/2000/svg\" xmlns:xlink=\"http://www.w3.org/1999/xlink\" width=\"100.0\" height=\"100.0\" viewBox=\"27.9372 -1.7828 4.125600000000002 3.9455999999999998\" preserveAspectRatio=\"xMinYMin meet\"><g transform=\"matrix(1,0,0,-1,0,0.3799999999999999)\"><path fill-rule=\"evenodd\" fill=\"#66cc99\" stroke=\"#555555\" stroke-width=\"0.08251200000000004\" opacity=\"0.6\" d=\"M 30.0,2.01 L 31.91,0.62 L 31.18,-1.63 L 28.82,-1.63 L 28.09,0.62 L 30.0,2.01 z\" /></g></svg>"
      ],
      "text/plain": [
       "<POLYGON ((30 2.01, 31.91 0.62, 31.18 -1.63, 28.82 -1.63, 28.09 0.62, 30 2.01))>"
      ]
     },
     "execution_count": 25,
     "metadata": {},
     "output_type": "execute_result"
    }
   ],
   "source": [
    "pentagono = Polygon([(30, 2.01), (31.91, 0.62), (31.18, -1.63), (28.82, -1.63), (28.09,0.62)])\n",
    "pentagono"
   ]
  },
  {
   "cell_type": "markdown",
   "id": "6964f5ed",
   "metadata": {},
   "source": [
    "#### Crear un triangulo"
   ]
  },
  {
   "cell_type": "code",
   "execution_count": 28,
   "id": "b8764a96",
   "metadata": {},
   "outputs": [
    {
     "data": {
      "image/svg+xml": [
       "<svg xmlns=\"http://www.w3.org/2000/svg\" xmlns:xlink=\"http://www.w3.org/1999/xlink\" width=\"100.0\" height=\"100.0\" viewBox=\"8.4 8.4 43.2 43.2\" preserveAspectRatio=\"xMinYMin meet\"><g transform=\"matrix(1,0,0,-1,0,60.0)\"><path fill-rule=\"evenodd\" fill=\"#66cc99\" stroke=\"#555555\" stroke-width=\"0.8640000000000001\" opacity=\"0.6\" d=\"M 10.0,10.0 L 50.0,10.0 L 30.0,50.0 L 10.0,10.0 z\" /></g></svg>"
      ],
      "text/plain": [
       "<POLYGON ((10 10, 50 10, 30 50, 10 10))>"
      ]
     },
     "execution_count": 28,
     "metadata": {},
     "output_type": "execute_result"
    }
   ],
   "source": [
    "triangulo = Polygon([(10,10),(50,10),(30,50)])\n",
    "triangulo"
   ]
  },
  {
   "cell_type": "markdown",
   "id": "d4a2768b",
   "metadata": {},
   "source": [
    "#### Crear un cuadrado\n",
    "#### Crear un circulo"
   ]
  },
  {
   "cell_type": "code",
   "execution_count": null,
   "id": "49e94958",
   "metadata": {},
   "outputs": [],
   "source": []
  }
 ],
 "metadata": {
  "kernelspec": {
   "display_name": "geo",
   "language": "python",
   "name": "python3"
  },
  "language_info": {
   "codemirror_mode": {
    "name": "ipython",
    "version": 3
   },
   "file_extension": ".py",
   "mimetype": "text/x-python",
   "name": "python",
   "nbconvert_exporter": "python",
   "pygments_lexer": "ipython3",
   "version": "3.12.3"
  }
 },
 "nbformat": 4,
 "nbformat_minor": 5
}
