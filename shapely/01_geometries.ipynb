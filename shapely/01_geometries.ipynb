{
 "cells": [
  {
   "cell_type": "markdown",
   "id": "cf279730",
   "metadata": {},
   "source": [
    "# Creando geometrias con shapely"
   ]
  },
  {
   "cell_type": "markdown",
   "id": "e17d6ece",
   "metadata": {},
   "source": [
    "## Puntos lineas y poligonos"
   ]
  },
  {
   "cell_type": "code",
   "execution_count": 4,
   "id": "30ab3248",
   "metadata": {},
   "outputs": [],
   "source": [
    "# Importar point, line and polygon constructors\n",
    "\n",
    "from shapely.geometry import Point, LineString, Polygon"
   ]
  },
  {
   "cell_type": "markdown",
   "id": "3e266c3e",
   "metadata": {},
   "source": [
    "### Creación de puntos"
   ]
  },
  {
   "cell_type": "code",
   "execution_count": 7,
   "id": "f4105042",
   "metadata": {},
   "outputs": [],
   "source": [
    "punto_1 = Point(20.5,50.4)\n",
    "punto_2 = Point(30.2,15.2)\n",
    "punto_3 = Point(20.2,36.8,75) # Punto en tres dimensiones"
   ]
  },
  {
   "cell_type": "code",
   "execution_count": 12,
   "id": "f53220db",
   "metadata": {},
   "outputs": [
    {
     "data": {
      "image/svg+xml": [
       "<svg xmlns=\"http://www.w3.org/2000/svg\" xmlns:xlink=\"http://www.w3.org/1999/xlink\" width=\"100.0\" height=\"100.0\" viewBox=\"29.2 14.2 2.0 2.0\" preserveAspectRatio=\"xMinYMin meet\"><g transform=\"matrix(1,0,0,-1,0,30.4)\"><circle cx=\"30.2\" cy=\"15.2\" r=\"0.06\" stroke=\"#555555\" stroke-width=\"0.02\" fill=\"#66cc99\" opacity=\"0.6\" /></g></svg>"
      ],
      "text/plain": [
       "<POINT (30.2 15.2)>"
      ]
     },
     "execution_count": 12,
     "metadata": {},
     "output_type": "execute_result"
    }
   ],
   "source": [
    "punto_2"
   ]
  },
  {
   "cell_type": "code",
   "execution_count": 13,
   "id": "8aba0125",
   "metadata": {},
   "outputs": [
    {
     "name": "stdout",
     "output_type": "stream",
     "text": [
      "POINT (20.5 50.4)\n"
     ]
    }
   ],
   "source": [
    "print(punto_1)"
   ]
  },
  {
   "cell_type": "code",
   "execution_count": 14,
   "id": "dc42c20f",
   "metadata": {},
   "outputs": [
    {
     "name": "stdout",
     "output_type": "stream",
     "text": [
      "POINT Z (20.2 36.8 75)\n"
     ]
    }
   ],
   "source": [
    "print(punto_3)"
   ]
  },
  {
   "cell_type": "code",
   "execution_count": 15,
   "id": "d7c6022b",
   "metadata": {},
   "outputs": [
    {
     "data": {
      "text/plain": [
       "'Point'"
      ]
     },
     "execution_count": 15,
     "metadata": {},
     "output_type": "execute_result"
    }
   ],
   "source": [
    "punto_1.geom_type"
   ]
  },
  {
   "cell_type": "code",
   "execution_count": null,
   "id": "e048b797",
   "metadata": {},
   "outputs": [],
   "source": []
  }
 ],
 "metadata": {
  "kernelspec": {
   "display_name": "geo",
   "language": "python",
   "name": "python3"
  },
  "language_info": {
   "codemirror_mode": {
    "name": "ipython",
    "version": 3
   },
   "file_extension": ".py",
   "mimetype": "text/x-python",
   "name": "python",
   "nbconvert_exporter": "python",
   "pygments_lexer": "ipython3",
   "version": "3.12.3"
  }
 },
 "nbformat": 4,
 "nbformat_minor": 5
}
