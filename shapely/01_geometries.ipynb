{
 "cells": [
  {
   "cell_type": "markdown",
   "id": "cf279730",
   "metadata": {},
   "source": [
    "# Creando geometrias con shapely"
   ]
  },
  {
   "cell_type": "markdown",
   "id": "e17d6ece",
   "metadata": {},
   "source": [
    "## Puntos lineas y poligonos"
   ]
  },
  {
   "cell_type": "code",
   "execution_count": 2,
   "id": "30ab3248",
   "metadata": {},
   "outputs": [],
   "source": [
    "# Importar point, line and polygon constructors\n",
    "\n",
    "from shapely.geometry import Point, LineString, Polygon"
   ]
  },
  {
   "cell_type": "markdown",
   "id": "3e266c3e",
   "metadata": {},
   "source": [
    "### Creación de puntos"
   ]
  },
  {
   "cell_type": "code",
   "execution_count": 3,
   "id": "f4105042",
   "metadata": {},
   "outputs": [],
   "source": [
    "punto_1 = Point(20.5,50.4)\n",
    "punto_2 = Point(30.2,15.2)\n",
    "punto_3 = Point(20.2,36.8,75) # Punto en tres dimensiones"
   ]
  },
  {
   "cell_type": "code",
   "execution_count": 4,
   "id": "f53220db",
   "metadata": {},
   "outputs": [
    {
     "data": {
      "image/svg+xml": [
       "<svg xmlns=\"http://www.w3.org/2000/svg\" xmlns:xlink=\"http://www.w3.org/1999/xlink\" width=\"100.0\" height=\"100.0\" viewBox=\"29.2 14.2 2.0 2.0\" preserveAspectRatio=\"xMinYMin meet\"><g transform=\"matrix(1,0,0,-1,0,30.4)\"><circle cx=\"30.2\" cy=\"15.2\" r=\"0.06\" stroke=\"#555555\" stroke-width=\"0.02\" fill=\"#66cc99\" opacity=\"0.6\" /></g></svg>"
      ],
      "text/plain": [
       "<POINT (30.2 15.2)>"
      ]
     },
     "execution_count": 4,
     "metadata": {},
     "output_type": "execute_result"
    }
   ],
   "source": [
    "punto_2"
   ]
  },
  {
   "cell_type": "code",
   "execution_count": 5,
   "id": "8aba0125",
   "metadata": {},
   "outputs": [
    {
     "name": "stdout",
     "output_type": "stream",
     "text": [
      "POINT (20.5 50.4)\n"
     ]
    }
   ],
   "source": [
    "print(punto_1)"
   ]
  },
  {
   "cell_type": "code",
   "execution_count": 6,
   "id": "dc42c20f",
   "metadata": {},
   "outputs": [
    {
     "name": "stdout",
     "output_type": "stream",
     "text": [
      "POINT Z (20.2 36.8 75)\n"
     ]
    }
   ],
   "source": [
    "print(punto_3)"
   ]
  },
  {
   "cell_type": "code",
   "execution_count": 7,
   "id": "d7c6022b",
   "metadata": {},
   "outputs": [
    {
     "data": {
      "text/plain": [
       "'Point'"
      ]
     },
     "execution_count": 7,
     "metadata": {},
     "output_type": "execute_result"
    }
   ],
   "source": [
    "punto_1.geom_type"
   ]
  },
  {
   "cell_type": "code",
   "execution_count": 8,
   "id": "e048b797",
   "metadata": {},
   "outputs": [
    {
     "data": {
      "text/plain": [
       "shapely.geometry.point.Point"
      ]
     },
     "execution_count": 8,
     "metadata": {},
     "output_type": "execute_result"
    }
   ],
   "source": [
    "type(punto_3)"
   ]
  },
  {
   "cell_type": "markdown",
   "id": "ee14c02a",
   "metadata": {},
   "source": [
    "### Extraer coordenadas de un punto"
   ]
  },
  {
   "cell_type": "code",
   "execution_count": 9,
   "id": "3b98caf0",
   "metadata": {},
   "outputs": [
    {
     "data": {
      "text/plain": [
       "[(20.5, 50.4)]"
      ]
     },
     "execution_count": 9,
     "metadata": {},
     "output_type": "execute_result"
    }
   ],
   "source": [
    "list(punto_1.coords)"
   ]
  },
  {
   "cell_type": "code",
   "execution_count": 10,
   "id": "949dec17",
   "metadata": {},
   "outputs": [
    {
     "data": {
      "text/plain": [
       "30.2"
      ]
     },
     "execution_count": 10,
     "metadata": {},
     "output_type": "execute_result"
    }
   ],
   "source": [
    "punto_2.x"
   ]
  },
  {
   "cell_type": "code",
   "execution_count": 11,
   "id": "71ddd064",
   "metadata": {},
   "outputs": [
    {
     "data": {
      "text/plain": [
       "75.0"
      ]
     },
     "execution_count": 11,
     "metadata": {},
     "output_type": "execute_result"
    }
   ],
   "source": [
    "punto_3.z"
   ]
  },
  {
   "cell_type": "markdown",
   "id": "f5816cca",
   "metadata": {},
   "source": [
    "### Calcular distancia entre dos puntos"
   ]
  },
  {
   "cell_type": "code",
   "execution_count": 12,
   "id": "30df7577",
   "metadata": {},
   "outputs": [
    {
     "name": "stdout",
     "output_type": "stream",
     "text": [
      "La distancia entre el punto 1 y el punto dos es: 36.512\n"
     ]
    }
   ],
   "source": [
    "distancia = punto_1.distance(punto_2)\n",
    "print(f\"La distancia entre el punto 1 y el punto dos es: {round(distancia, 3)}\")"
   ]
  },
  {
   "cell_type": "markdown",
   "id": "a5ea2536",
   "metadata": {},
   "source": [
    "### Creación de lineas"
   ]
  },
  {
   "cell_type": "code",
   "execution_count": 13,
   "id": "17b3e002",
   "metadata": {},
   "outputs": [],
   "source": [
    "punt_1 = Point(20,50)\n",
    "punt_2 = Point(50,20)\n",
    "\n",
    "linea_dos_puntos = LineString([punt_1, punt_2])"
   ]
  },
  {
   "cell_type": "code",
   "execution_count": 14,
   "id": "ab2b3239",
   "metadata": {},
   "outputs": [
    {
     "data": {
      "image/svg+xml": [
       "<svg xmlns=\"http://www.w3.org/2000/svg\" xmlns:xlink=\"http://www.w3.org/1999/xlink\" width=\"100.0\" height=\"100.0\" viewBox=\"18.8 18.8 32.400000000000006 32.400000000000006\" preserveAspectRatio=\"xMinYMin meet\"><g transform=\"matrix(1,0,0,-1,0,70.0)\"><polyline fill=\"none\" stroke=\"#66cc99\" stroke-width=\"0.6480000000000001\" points=\"20.0,50.0 50.0,20.0\" opacity=\"0.8\" /></g></svg>"
      ],
      "text/plain": [
       "<LINESTRING (20 50, 50 20)>"
      ]
     },
     "execution_count": 14,
     "metadata": {},
     "output_type": "execute_result"
    }
   ],
   "source": [
    "linea_dos_puntos"
   ]
  },
  {
   "cell_type": "code",
   "execution_count": 15,
   "id": "41df0092",
   "metadata": {},
   "outputs": [
    {
     "data": {
      "text/plain": [
       "42.42640687119285"
      ]
     },
     "execution_count": 15,
     "metadata": {},
     "output_type": "execute_result"
    }
   ],
   "source": [
    "linea_dos_puntos.length"
   ]
  },
  {
   "cell_type": "code",
   "execution_count": 18,
   "id": "5e3e2607",
   "metadata": {},
   "outputs": [
    {
     "data": {
      "image/svg+xml": [
       "<svg xmlns=\"http://www.w3.org/2000/svg\" xmlns:xlink=\"http://www.w3.org/1999/xlink\" width=\"100.0\" height=\"100.0\" viewBox=\"48.4 18.4 33.199999999999996 43.2\" preserveAspectRatio=\"xMinYMin meet\"><g transform=\"matrix(1,0,0,-1,0,80.0)\"><polyline fill=\"none\" stroke=\"#66cc99\" stroke-width=\"0.8640000000000001\" points=\"50.0,20.0 60.0,25.0 80.0,60.0\" opacity=\"0.8\" /></g></svg>"
      ],
      "text/plain": [
       "<LINESTRING (50 20, 60 25, 80 60)>"
      ]
     },
     "execution_count": 18,
     "metadata": {},
     "output_type": "execute_result"
    }
   ],
   "source": [
    "punto_1a = Point(50,20)\n",
    "punto_2a = Point(60,25)\n",
    "punto_3a = Point(80,60)\n",
    "\n",
    "linea_multi_ponto = LineString([punto_1a, punto_2a, punto_3a])\n",
    "linea_multi_ponto"
   ]
  },
  {
   "cell_type": "markdown",
   "id": "7a84fe9f",
   "metadata": {},
   "source": [
    "#### Longitud de una linea"
   ]
  },
  {
   "cell_type": "code",
   "execution_count": 19,
   "id": "540f83a4",
   "metadata": {},
   "outputs": [
    {
     "data": {
      "text/plain": [
       "51.49162862899169"
      ]
     },
     "execution_count": 19,
     "metadata": {},
     "output_type": "execute_result"
    }
   ],
   "source": [
    "linea_multi_ponto.length"
   ]
  },
  {
   "cell_type": "code",
   "execution_count": null,
   "id": "e68d327f",
   "metadata": {},
   "outputs": [],
   "source": []
  }
 ],
 "metadata": {
  "kernelspec": {
   "display_name": "geo",
   "language": "python",
   "name": "python3"
  },
  "language_info": {
   "codemirror_mode": {
    "name": "ipython",
    "version": 3
   },
   "file_extension": ".py",
   "mimetype": "text/x-python",
   "name": "python",
   "nbconvert_exporter": "python",
   "pygments_lexer": "ipython3",
   "version": "3.12.3"
  }
 },
 "nbformat": 4,
 "nbformat_minor": 5
}
